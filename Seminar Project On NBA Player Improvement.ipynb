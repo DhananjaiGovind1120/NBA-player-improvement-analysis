{
 "cells": [
  {
   "cell_type": "markdown",
   "metadata": {},
   "source": [
    "Seminar Project on NBA player Improvement."
   ]
  },
  {
   "cell_type": "markdown",
   "metadata": {},
   "source": [
    "1. Predictive analysis"
   ]
  },
  {
   "cell_type": "code",
   "execution_count": 1,
   "metadata": {},
   "outputs": [],
   "source": [
    "import numpy as np\n",
    "import pandas as pd\n",
    "import matplotlib.pyplot as plt\n",
    "import seaborn as sns\n",
    "%matplotlib inline"
   ]
  },
  {
   "cell_type": "code",
   "execution_count": 2,
   "metadata": {},
   "outputs": [
    {
     "data": {
      "text/html": [
       "<div>\n",
       "<style scoped>\n",
       "    .dataframe tbody tr th:only-of-type {\n",
       "        vertical-align: middle;\n",
       "    }\n",
       "\n",
       "    .dataframe tbody tr th {\n",
       "        vertical-align: top;\n",
       "    }\n",
       "\n",
       "    .dataframe thead th {\n",
       "        text-align: right;\n",
       "    }\n",
       "</style>\n",
       "<table border=\"1\" class=\"dataframe\">\n",
       "  <thead>\n",
       "    <tr style=\"text-align: right;\">\n",
       "      <th></th>\n",
       "      <th>Year</th>\n",
       "      <th>Player</th>\n",
       "      <th>Age</th>\n",
       "      <th>Tm</th>\n",
       "      <th>G</th>\n",
       "      <th>TS%</th>\n",
       "      <th>3PAr</th>\n",
       "      <th>FTr</th>\n",
       "      <th>TRB%</th>\n",
       "      <th>AST%</th>\n",
       "      <th>...</th>\n",
       "      <th>3PA/48</th>\n",
       "      <th>FTA/48</th>\n",
       "      <th>PF/48</th>\n",
       "      <th>MPG</th>\n",
       "      <th>Improvement</th>\n",
       "      <th>Frontcourt</th>\n",
       "      <th>Imprv_prev_year</th>\n",
       "      <th>Tm_WS</th>\n",
       "      <th>Tm_next</th>\n",
       "      <th>Change_team</th>\n",
       "    </tr>\n",
       "  </thead>\n",
       "  <tbody>\n",
       "    <tr>\n",
       "      <th>0</th>\n",
       "      <td>2001.0</td>\n",
       "      <td>Lamar Odom</td>\n",
       "      <td>21</td>\n",
       "      <td>LAC</td>\n",
       "      <td>76.0</td>\n",
       "      <td>0.536</td>\n",
       "      <td>0.242</td>\n",
       "      <td>0.369</td>\n",
       "      <td>11.9</td>\n",
       "      <td>25.0</td>\n",
       "      <td>...</td>\n",
       "      <td>4.282087</td>\n",
       "      <td>6.533145</td>\n",
       "      <td>3.994358</td>\n",
       "      <td>37.315789</td>\n",
       "      <td>-5.80000</td>\n",
       "      <td>1</td>\n",
       "      <td>3.3</td>\n",
       "      <td>34.6</td>\n",
       "      <td>LAC</td>\n",
       "      <td>True</td>\n",
       "    </tr>\n",
       "    <tr>\n",
       "      <th>1</th>\n",
       "      <td>2016.0</td>\n",
       "      <td>D.J. Augustin</td>\n",
       "      <td>28</td>\n",
       "      <td>OKC</td>\n",
       "      <td>62.0</td>\n",
       "      <td>0.575</td>\n",
       "      <td>0.480</td>\n",
       "      <td>0.366</td>\n",
       "      <td>4.4</td>\n",
       "      <td>25.3</td>\n",
       "      <td>...</td>\n",
       "      <td>6.845501</td>\n",
       "      <td>5.215620</td>\n",
       "      <td>3.463497</td>\n",
       "      <td>19.000000</td>\n",
       "      <td>-1.40000</td>\n",
       "      <td>0</td>\n",
       "      <td>-0.8</td>\n",
       "      <td>61.9</td>\n",
       "      <td>ORL</td>\n",
       "      <td>False</td>\n",
       "    </tr>\n",
       "    <tr>\n",
       "      <th>2</th>\n",
       "      <td>2011.0</td>\n",
       "      <td>Gilbert Arenas</td>\n",
       "      <td>29</td>\n",
       "      <td>ORL</td>\n",
       "      <td>70.0</td>\n",
       "      <td>0.471</td>\n",
       "      <td>0.446</td>\n",
       "      <td>0.208</td>\n",
       "      <td>6.1</td>\n",
       "      <td>25.3</td>\n",
       "      <td>...</td>\n",
       "      <td>8.739421</td>\n",
       "      <td>4.089087</td>\n",
       "      <td>5.024499</td>\n",
       "      <td>25.657143</td>\n",
       "      <td>-0.00303</td>\n",
       "      <td>0</td>\n",
       "      <td>-1.3</td>\n",
       "      <td>54.4</td>\n",
       "      <td>MEM</td>\n",
       "      <td>False</td>\n",
       "    </tr>\n",
       "    <tr>\n",
       "      <th>3</th>\n",
       "      <td>2006.0</td>\n",
       "      <td>Matt Carroll</td>\n",
       "      <td>25</td>\n",
       "      <td>CHA</td>\n",
       "      <td>78.0</td>\n",
       "      <td>0.540</td>\n",
       "      <td>0.389</td>\n",
       "      <td>0.353</td>\n",
       "      <td>7.1</td>\n",
       "      <td>4.6</td>\n",
       "      <td>...</td>\n",
       "      <td>6.964706</td>\n",
       "      <td>6.324706</td>\n",
       "      <td>4.517647</td>\n",
       "      <td>16.346154</td>\n",
       "      <td>2.00000</td>\n",
       "      <td>0</td>\n",
       "      <td>1.9</td>\n",
       "      <td>32.5</td>\n",
       "      <td>CHA</td>\n",
       "      <td>True</td>\n",
       "    </tr>\n",
       "    <tr>\n",
       "      <th>4</th>\n",
       "      <td>2010.0</td>\n",
       "      <td>Caron Butler</td>\n",
       "      <td>29</td>\n",
       "      <td>WAS</td>\n",
       "      <td>74.0</td>\n",
       "      <td>0.507</td>\n",
       "      <td>0.138</td>\n",
       "      <td>0.300</td>\n",
       "      <td>9.5</td>\n",
       "      <td>9.2</td>\n",
       "      <td>...</td>\n",
       "      <td>2.500898</td>\n",
       "      <td>5.432986</td>\n",
       "      <td>3.328782</td>\n",
       "      <td>37.608108</td>\n",
       "      <td>-2.30000</td>\n",
       "      <td>0</td>\n",
       "      <td>-1.0</td>\n",
       "      <td>34.1</td>\n",
       "      <td>DAL</td>\n",
       "      <td>False</td>\n",
       "    </tr>\n",
       "  </tbody>\n",
       "</table>\n",
       "<p>5 rows × 31 columns</p>\n",
       "</div>"
      ],
      "text/plain": [
       "     Year          Player  Age   Tm     G    TS%   3PAr    FTr  TRB%  AST%  \\\n",
       "0  2001.0      Lamar Odom   21  LAC  76.0  0.536  0.242  0.369  11.9  25.0   \n",
       "1  2016.0   D.J. Augustin   28  OKC  62.0  0.575  0.480  0.366   4.4  25.3   \n",
       "2  2011.0  Gilbert Arenas   29  ORL  70.0  0.471  0.446  0.208   6.1  25.3   \n",
       "3  2006.0    Matt Carroll   25  CHA  78.0  0.540  0.389  0.353   7.1   4.6   \n",
       "4  2010.0    Caron Butler   29  WAS  74.0  0.507  0.138  0.300   9.5   9.2   \n",
       "\n",
       "   ...    3PA/48    FTA/48     PF/48        MPG  Improvement  Frontcourt  \\\n",
       "0  ...  4.282087  6.533145  3.994358  37.315789     -5.80000           1   \n",
       "1  ...  6.845501  5.215620  3.463497  19.000000     -1.40000           0   \n",
       "2  ...  8.739421  4.089087  5.024499  25.657143     -0.00303           0   \n",
       "3  ...  6.964706  6.324706  4.517647  16.346154      2.00000           0   \n",
       "4  ...  2.500898  5.432986  3.328782  37.608108     -2.30000           0   \n",
       "\n",
       "   Imprv_prev_year  Tm_WS  Tm_next  Change_team  \n",
       "0              3.3   34.6      LAC         True  \n",
       "1             -0.8   61.9      ORL        False  \n",
       "2             -1.3   54.4      MEM        False  \n",
       "3              1.9   32.5      CHA         True  \n",
       "4             -1.0   34.1      DAL        False  \n",
       "\n",
       "[5 rows x 31 columns]"
      ]
     },
     "execution_count": 2,
     "metadata": {},
     "output_type": "execute_result"
    }
   ],
   "source": [
    "data = pd.read_csv(r'https://raw.githubusercontent.com/zxl124/NBA_improvement_prediction/master/data/modified_data.csv', index_col=0)\n",
    "# Shuffle rows\n",
    "data = data.sample(frac=1, random_state=42).reset_index(drop=True)\n",
    "data.head()"
   ]
  },
  {
   "cell_type": "code",
   "execution_count": 3,
   "metadata": {},
   "outputs": [
    {
     "name": "stderr",
     "output_type": "stream",
     "text": [
      "C:\\anaconda\\lib\\site-packages\\sklearn\\preprocessing\\data.py:334: DataConversionWarning: Data with input dtype bool, int64, float64 were all converted to float64 by MinMaxScaler.\n",
      "  return self.partial_fit(X, y)\n"
     ]
    }
   ],
   "source": [
    "# Separate target data\n",
    "target = data['Improvement']\n",
    "data.drop('Improvement', axis=1, inplace=True)\n",
    "# Drop columns that are not going to be used for modeling.\n",
    "data.drop(['Year','Player','Tm','Tm_next','WS'], axis=1, inplace=True)\n",
    "# Since a lot of the features are percentages, I think it makes the most sense to scale the data between 0 and 1.\n",
    "from sklearn.preprocessing import MinMaxScaler\n",
    "scaler = MinMaxScaler()\n",
    "scaled_data = scaler.fit_transform(data)"
   ]
  },
  {
   "cell_type": "code",
   "execution_count": 4,
   "metadata": {},
   "outputs": [],
   "source": [
    "# Create training and testing sets\n",
    "from sklearn.model_selection import train_test_split\n",
    "Xtrain, Xtest, ytrain, ytest = train_test_split(scaled_data, target.values, random_state=42)"
   ]
  },
  {
   "cell_type": "markdown",
   "metadata": {},
   "source": [
    "2. Regression models"
   ]
  },
  {
   "cell_type": "markdown",
   "metadata": {},
   "source": [
    "2.1 Establishing Benchmark"
   ]
  },
  {
   "cell_type": "code",
   "execution_count": 5,
   "metadata": {},
   "outputs": [
    {
     "name": "stdout",
     "output_type": "stream",
     "text": [
      "RMSE of simple linear model is 2.1564883117402265\n"
     ]
    }
   ],
   "source": [
    "from sklearn.linear_model import LinearRegression\n",
    "from sklearn.metrics import mean_squared_error\n",
    "# Find the column index of 'Age'\n",
    "age_col = data.columns.tolist().index('Age')\n",
    "# Run the simple linear regression model based on age\n",
    "lm = LinearRegression()\n",
    "lm.fit(Xtrain[:,age_col].reshape(-1,1), ytrain)\n",
    "ypred = lm.predict(Xtest[:,age_col].reshape(-1,1))\n",
    "print('RMSE of simple linear model is', np.sqrt(mean_squared_error(ytest, ypred)))"
   ]
  },
  {
   "cell_type": "markdown",
   "metadata": {},
   "source": [
    "2.2 Linear Model"
   ]
  },
  {
   "cell_type": "markdown",
   "metadata": {},
   "source": [
    "2.2.1 Linear Regression"
   ]
  },
  {
   "cell_type": "code",
   "execution_count": 6,
   "metadata": {},
   "outputs": [
    {
     "name": "stdout",
     "output_type": "stream",
     "text": [
      "RMSE of linear regression model is 1.9504359271802103\n"
     ]
    }
   ],
   "source": [
    "lm = LinearRegression()\n",
    "lm.fit(Xtrain, ytrain)\n",
    "ypred = lm.predict(Xtest)\n",
    "print('RMSE of linear regression model is', np.sqrt(mean_squared_error(ytest, ypred)))"
   ]
  },
  {
   "cell_type": "code",
   "execution_count": 7,
   "metadata": {},
   "outputs": [
    {
     "name": "stdout",
     "output_type": "stream",
     "text": [
      "Age               -3.198378\n",
      "G                 -1.475999\n",
      "TS%                0.722493\n",
      "3PAr               0.081866\n",
      "FTr               -0.259528\n",
      "TRB%               1.745498\n",
      "AST%               1.261267\n",
      "STL%               0.587352\n",
      "BLK%               1.105450\n",
      "TOV%               0.174816\n",
      "USG%              -2.132952\n",
      "WS/48             -4.640529\n",
      "3P%                0.219647\n",
      "FT%                0.936026\n",
      "Pick              -0.324906\n",
      "GS%               -0.655881\n",
      "FGA/48             1.198250\n",
      "3PA/48            -0.246015\n",
      "FTA/48             1.307619\n",
      "PF/48             -0.601876\n",
      "MPG                0.326770\n",
      "Frontcourt        -0.214647\n",
      "Imprv_prev_year   -6.159739\n",
      "Tm_WS             -0.026946\n",
      "Change_team        0.396651\n",
      "dtype: float64\n"
     ]
    }
   ],
   "source": [
    "print(pd.Series(lm.coef_, index=data.columns))\n",
    "#looking at the coefficients to prioritise features"
   ]
  },
  {
   "cell_type": "markdown",
   "metadata": {},
   "source": [
    "From coefficients we can see that Age,WS/48 and improvement previous year are the most important features"
   ]
  },
  {
   "cell_type": "markdown",
   "metadata": {},
   "source": [
    "2.2.2 Ridge Regression"
   ]
  },
  {
   "cell_type": "code",
   "execution_count": 8,
   "metadata": {},
   "outputs": [
    {
     "name": "stdout",
     "output_type": "stream",
     "text": [
      "Best parameters were {'alpha': 1}\n",
      "Best RMSE was 1.9996332169169349\n"
     ]
    },
    {
     "name": "stderr",
     "output_type": "stream",
     "text": [
      "C:\\anaconda\\lib\\site-packages\\sklearn\\model_selection\\_split.py:2053: FutureWarning: You should specify a value for 'cv' instead of relying on the default value. The default value will change from 3 to 5 in version 0.22.\n",
      "  warnings.warn(CV_WARNING, FutureWarning)\n"
     ]
    }
   ],
   "source": [
    "from sklearn.linear_model import Ridge\n",
    "from sklearn.model_selection import GridSearchCV\n",
    "# Grid search alpha and l1_ratio\n",
    "lm = Ridge(random_state=42)\n",
    "params = {\n",
    "    'alpha':[0.01, 0.1, 1, 10]\n",
    "}\n",
    "# Write a function that runs GridSearchCv, and output results\n",
    "def grid_search_cv(regressor, params, Xtrain, ytrain):\n",
    "    model = GridSearchCV(regressor, params, scoring='neg_mean_squared_error')\n",
    "    model.fit(Xtrain, ytrain)\n",
    "    print('Best parameters were', model.best_params_)\n",
    "    print('Best RMSE was', np.sqrt(-1*model.best_score_))\n",
    "grid_search_cv(lm, params, Xtrain, ytrain)"
   ]
  },
  {
   "cell_type": "code",
   "execution_count": 9,
   "metadata": {},
   "outputs": [
    {
     "name": "stdout",
     "output_type": "stream",
     "text": [
      "RMSE of Ridge regression model is 1.9504497285205977\n"
     ]
    }
   ],
   "source": [
    "lm = Ridge(alpha=0.1, random_state=42)\n",
    "lm.fit(Xtrain, ytrain)\n",
    "ypred = lm.predict(Xtest)\n",
    "print('RMSE of Ridge regression model is', np.sqrt(mean_squared_error(ytest, ypred)))"
   ]
  },
  {
   "cell_type": "code",
   "execution_count": 10,
   "metadata": {},
   "outputs": [
    {
     "name": "stdout",
     "output_type": "stream",
     "text": [
      "Age               -3.196312\n",
      "G                 -1.476110\n",
      "TS%                0.684139\n",
      "3PAr               0.087859\n",
      "FTr               -0.241965\n",
      "TRB%               1.722241\n",
      "AST%               1.237227\n",
      "STL%               0.577313\n",
      "BLK%               1.096292\n",
      "TOV%               0.194299\n",
      "USG%              -2.052639\n",
      "WS/48             -4.574647\n",
      "3P%                0.217651\n",
      "FT%                0.928991\n",
      "Pick              -0.325021\n",
      "GS%               -0.654983\n",
      "FGA/48             1.155323\n",
      "3PA/48            -0.254575\n",
      "FTA/48             1.268679\n",
      "PF/48             -0.599609\n",
      "MPG                0.323982\n",
      "Frontcourt        -0.214556\n",
      "Imprv_prev_year   -6.148446\n",
      "Tm_WS             -0.040924\n",
      "Change_team        0.396727\n",
      "dtype: float64\n"
     ]
    }
   ],
   "source": [
    "print(pd.Series(lm.coef_, index=data.columns))"
   ]
  },
  {
   "cell_type": "markdown",
   "metadata": {},
   "source": [
    "There was almost no difference between the linear regression model and the Ridge regression model."
   ]
  },
  {
   "cell_type": "markdown",
   "metadata": {},
   "source": [
    "2.2.3 Lasso Regression"
   ]
  },
  {
   "cell_type": "code",
   "execution_count": 11,
   "metadata": {},
   "outputs": [
    {
     "name": "stderr",
     "output_type": "stream",
     "text": [
      "C:\\anaconda\\lib\\site-packages\\sklearn\\model_selection\\_split.py:2053: FutureWarning: You should specify a value for 'cv' instead of relying on the default value. The default value will change from 3 to 5 in version 0.22.\n",
      "  warnings.warn(CV_WARNING, FutureWarning)\n"
     ]
    },
    {
     "name": "stdout",
     "output_type": "stream",
     "text": [
      "Best parameters were {'alpha': 0.0001}\n",
      "Best RMSE was 1.9997064120669004\n"
     ]
    }
   ],
   "source": [
    "from sklearn.linear_model import Lasso\n",
    "# Grid search alpha and l1_ratio\n",
    "lm = Lasso(random_state=42)\n",
    "params = {\n",
    "    'alpha':[1e-6, 1e-5, 1e-4, 0.001, 0.01, 0.1]\n",
    "}\n",
    "grid_search_cv(lm, params, Xtrain, ytrain)"
   ]
  },
  {
   "cell_type": "code",
   "execution_count": 12,
   "metadata": {},
   "outputs": [
    {
     "name": "stdout",
     "output_type": "stream",
     "text": [
      "RMSE of Lasso regression model is 1.950434241675242\n"
     ]
    }
   ],
   "source": [
    "\n",
    "lm = Lasso(alpha=1e-5, random_state=42)\n",
    "lm.fit(Xtrain, ytrain)\n",
    "ypred = lm.predict(Xtest)\n",
    "print('RMSE of Lasso regression model is', np.sqrt(mean_squared_error(ytest, ypred)))"
   ]
  },
  {
   "cell_type": "code",
   "execution_count": 13,
   "metadata": {},
   "outputs": [
    {
     "data": {
      "image/png": "[encoded data removed]",
      "text/plain": [
       "<Figure size 432x432 with 1 Axes>"
      ]
     },
     "metadata": {
      "needs_background": "light"
     },
     "output_type": "display_data"
    }
   ],
   "source": [
    "\n",
    "def plot_predict_true(ytest, ypred):\n",
    "    plt.figure(figsize=(6,6))\n",
    "    _ = plt.scatter(ytest, ypred, s=10)\n",
    "    _ = plt.xlabel('Actual Improvement', fontsize=16)\n",
    "    _ = plt.ylabel('Predicted Improvement', fontsize=16)\n",
    "plot_predict_true(ytest, ypred)"
   ]
  },
  {
   "cell_type": "code",
   "execution_count": 14,
   "metadata": {},
   "outputs": [
    {
     "name": "stderr",
     "output_type": "stream",
     "text": [
      "C:\\anaconda\\lib\\site-packages\\matplotlib\\axes\\_axes.py:6521: MatplotlibDeprecationWarning: \n",
      "The 'normed' kwarg was deprecated in Matplotlib 2.1 and will be removed in 3.1. Use 'density' instead.\n",
      "  alternative=\"'density'\", removal=\"3.1\")\n",
      "C:\\anaconda\\lib\\site-packages\\matplotlib\\axes\\_axes.py:6521: MatplotlibDeprecationWarning: \n",
      "The 'normed' kwarg was deprecated in Matplotlib 2.1 and will be removed in 3.1. Use 'density' instead.\n",
      "  alternative=\"'density'\", removal=\"3.1\")\n"
     ]
    },
    {
     "data": {
      "image/png": "[encoded data removed]",
      "text/plain": [
       "<Figure size 432x288 with 1 Axes>"
      ]
     },
     "metadata": {
      "needs_background": "light"
     },
     "output_type": "display_data"
    }
   ],
   "source": [
    "\n",
    "# The prediction space was tighter than the distribution of actual values.\n",
    "_ = plt.hist(ytest, bins=30, alpha=0.5, normed=True, label='Actual Improvement')\n",
    "_ = plt.hist(ypred, bins=30, alpha=0.5, normed=True, label='Predicted Improvement')\n",
    "_ = plt.xlabel('Improvement', fontsize=16)\n",
    "_ = plt.ylabel('Normalized Distribution Function', fontsize=16)\n",
    "_ = plt.legend(fontsize=12, bbox_to_anchor=(0.6,1))"
   ]
  },
  {
   "cell_type": "code",
   "execution_count": 15,
   "metadata": {},
   "outputs": [
    {
     "name": "stdout",
     "output_type": "stream",
     "text": [
      "Factor = 1.5, RMSE = 2.0310597676350683\n",
      "Factor = 1.6, RMSE = 2.0631008831199162\n",
      "Factor = 1.7, RMSE = 2.0999745751609056\n",
      "Factor = 1.8, RMSE = 2.1414312192741463\n",
      "Factor = 1.9, RMSE = 2.187210233518802\n",
      "Factor = 2.0, RMSE = 2.2370462741088915\n",
      "Factor = 2.1, RMSE = 2.2906745616885997\n",
      "Factor = 2.2, RMSE = 2.347835247796942\n",
      "Factor = 2.3, RMSE = 2.4082768200927154\n",
      "Factor = 2.4, RMSE = 2.471758609120583\n",
      "Factor = 2.5, RMSE = 2.538052499357577\n",
      "Factor = 2.6, RMSE = 2.606943966677545\n",
      "Factor = 2.7, RMSE = 2.678232568218329\n",
      "Factor = 2.8, RMSE = 2.7517320039752997\n",
      "Factor = 2.9, RMSE = 2.827269856611885\n",
      "Factor = 3.0, RMSE = 2.904687100304976\n"
     ]
    }
   ],
   "source": [
    " #Try to scale the predicted improvement up to match the range of actual improvements\n",
    "# and evaluate the performances.\n",
    "for i in np.linspace(1.5, 3, 16):\n",
    "    ypred_copy = ypred * i\n",
    "    print('Factor = {:.1f}, RMSE = {}'.format(i, np.sqrt(mean_squared_error(ytest, ypred_copy))))"
   ]
  },
  {
   "cell_type": "code",
   "execution_count": 16,
   "metadata": {},
   "outputs": [
    {
     "data": {
      "image/png": "[encoded data removed]",
      "text/plain": [
       "<Figure size 432x288 with 1 Axes>"
      ]
     },
     "metadata": {
      "needs_background": "light"
     },
     "output_type": "display_data"
    }
   ],
   "source": [
    "# No, it doesn't work. If I scale up the predictions, error only increase.\n",
    "# Take a look at residual vs target value\n",
    "_ = plt.scatter(ytest, ypred-ytest, s=10)\n",
    "_ = plt.xlabel('Improvement')\n",
    "_ = plt.ylabel('Error of Prediction')"
   ]
  },
  {
   "cell_type": "markdown",
   "metadata": {},
   "source": [
    "The errors change with target values. This is not right. Linear regression models should have constant errors regardless of the predicted value. I think the reason we are seeing this is because there are more samples with smaller values(closer to 0) than those with larger values. So the weights of samples are unbalanced in determining the mean squared error. In other words, since there are more samples with smaller values, the models try to prioritize minimizing errors on those samples and tend to ignore samples with larger values. To remedy this, I can assign weights to samples, with weights being inversely proportional to the number of samples with similar target values."
   ]
  },
  {
   "cell_type": "code",
   "execution_count": 17,
   "metadata": {},
   "outputs": [],
   "source": [
    "from collections import Counter\n",
    "def calc_weights(y):\n",
    "    # Values outside 6 and -6 can be considered outliers and not give too much weight\n",
    "    y_copy = y.copy()\n",
    "    y_copy[y_copy>6] = 6\n",
    "    y_copy[y_copy<-6] = -6\n",
    "    # Count samples with different target values (using bins with width 1)\n",
    "    n_samples = Counter(np.round(y_copy, 0))\n",
    "    # Calculate weights = 1/n(samples with similar y)\n",
    "    def transform_values(value):\n",
    "        if value > 6:\n",
    "            return 1/n_samples[6]\n",
    "        elif value < -6:\n",
    "            return 1/n_samples[-6]\n",
    "        else:\n",
    "            return 1/n_samples[np.round(value, 0)]\n",
    "    return np.vectorize(transform_values)(y)\n",
    "# Calculate weights for training set\n",
    "ytrain_weights = calc_weights(ytrain)"
   ]
  },
  {
   "cell_type": "code",
   "execution_count": 18,
   "metadata": {},
   "outputs": [],
   "source": [
    "# Run the linear regression with weights\n",
    "lm = LinearRegression()\n",
    "lm.fit(Xtrain, ytrain, sample_weight=ytrain_weights)\n",
    "ypred = lm.predict(Xtest)"
   ]
  },
  {
   "cell_type": "code",
   "execution_count": 19,
   "metadata": {},
   "outputs": [
    {
     "name": "stderr",
     "output_type": "stream",
     "text": [
      "C:\\anaconda\\lib\\site-packages\\matplotlib\\axes\\_axes.py:6521: MatplotlibDeprecationWarning: \n",
      "The 'normed' kwarg was deprecated in Matplotlib 2.1 and will be removed in 3.1. Use 'density' instead.\n",
      "  alternative=\"'density'\", removal=\"3.1\")\n",
      "C:\\anaconda\\lib\\site-packages\\matplotlib\\axes\\_axes.py:6521: MatplotlibDeprecationWarning: \n",
      "The 'normed' kwarg was deprecated in Matplotlib 2.1 and will be removed in 3.1. Use 'density' instead.\n",
      "  alternative=\"'density'\", removal=\"3.1\")\n"
     ]
    },
    {
     "data": {
      "image/png": "[encoded data removed]",
      "text/plain": [
       "<Figure size 432x288 with 1 Axes>"
      ]
     },
     "metadata": {
      "needs_background": "light"
     },
     "output_type": "display_data"
    }
   ],
   "source": [
    "# Check distribution of prediction again\n",
    "_ = plt.hist(ytest, bins=30, alpha=0.5, normed=True, label='Actual Improvement')\n",
    "_ = plt.hist(ypred, bins=30, alpha=0.5, normed=True, label='Predicted Improvement')\n",
    "_ = plt.xlabel('Improvement', fontsize=16)\n",
    "_ = plt.ylabel('Normalized Distribution Function', fontsize=16)\n",
    "_ = plt.legend(fontsize=12, bbox_to_anchor=(0.6,1))"
   ]
  },
  {
   "cell_type": "code",
   "execution_count": 20,
   "metadata": {},
   "outputs": [
    {
     "data": {
      "image/png": "[encoded data removed]",
      "text/plain": [
       "<Figure size 432x288 with 1 Axes>"
      ]
     },
     "metadata": {
      "needs_background": "light"
     },
     "output_type": "display_data"
    }
   ],
   "source": [
    "# Check residual and true value again\n",
    "_ = plt.scatter(ytest, ypred-ytest, s=10)\n",
    "_ = plt.xlabel('Improvement')\n",
    "_ = plt.ylabel('Error of Prediction')"
   ]
  },
  {
   "cell_type": "markdown",
   "metadata": {},
   "source": [
    "With the weighted method, the range of predicted values is more similar to the range of actual values. In terms of errors, it is still not constant across different target values. We can see the weighted model have higher errors for smaller values and lower errors for larger values compared to the unweighted model. Practically speaking, accuracy on larger values is more important than accuracy on smaller values, because players with large improvement/decline have more impact on the team as players whose performance did not change much. So it might be worthwhile to sacrifice some accuracy on the smaller values to achieve higher accuracy on larger values."
   ]
  },
  {
   "cell_type": "code",
   "execution_count": 21,
   "metadata": {},
   "outputs": [
    {
     "data": {
      "image/png": "[encoded data removed]",
      "text/plain": [
       "<Figure size 432x432 with 1 Axes>"
      ]
     },
     "metadata": {
      "needs_background": "light"
     },
     "output_type": "display_data"
    }
   ],
   "source": [
    "# Plot the prediction against true values again\n",
    "plot_predict_true(ytest, ypred)"
   ]
  },
  {
   "cell_type": "code",
   "execution_count": 22,
   "metadata": {},
   "outputs": [
    {
     "name": "stdout",
     "output_type": "stream",
     "text": [
      "The root of weighted squared error of this model is 2.984420576799354\n"
     ]
    }
   ],
   "source": [
    "# Recalculate the mean squared error with sample weights\n",
    "# Calculate sample weights for the test set.\n",
    "ytest_weights = calc_weights(ytest)\n",
    "print('The root of weighted squared error of this model is', \n",
    "      np.sqrt(mean_squared_error(ytest, ypred, sample_weight=ytest_weights)))"
   ]
  },
  {
   "cell_type": "code",
   "execution_count": 23,
   "metadata": {},
   "outputs": [
    {
     "name": "stdout",
     "output_type": "stream",
     "text": [
      "The root of weighted squared error of this model is 3.839567556276467\n"
     ]
    }
   ],
   "source": [
    "# Re-evaluate the bench mark model using the same metric.\n",
    "lm = LinearRegression()\n",
    "lm.fit(Xtrain[:,age_col].reshape(-1,1), ytrain)\n",
    "ypred = lm.predict(Xtest[:,age_col].reshape(-1,1))\n",
    "print('The root of weighted squared error of this model is', \n",
    "      np.sqrt(mean_squared_error(ytest, ypred, sample_weight=ytest_weights)))"
   ]
  },
  {
   "cell_type": "markdown",
   "metadata": {},
   "source": [
    "We can see that by assigning more weights to under-represented samples (samples with larger improvement/decline), we can achieve higher accuracy for those samples. For other algorithms, I've already gone ahead and tried using standard approaches, and the results are similar in that they all try to focus on over-represented samples, and predict a tighter range of values than the actual improvements. There is no need to show them repeatedly. I am going to use the weighted approach for these algorithms."
   ]
  },
  {
   "cell_type": "markdown",
   "metadata": {},
   "source": [
    "2.3 SVM"
   ]
  },
  {
   "cell_type": "code",
   "execution_count": 24,
   "metadata": {},
   "outputs": [
    {
     "name": "stderr",
     "output_type": "stream",
     "text": [
      "C:\\anaconda\\lib\\site-packages\\sklearn\\svm\\base.py:196: FutureWarning: The default value of gamma will change from 'auto' to 'scale' in version 0.22 to account better for unscaled features. Set gamma explicitly to 'auto' or 'scale' to avoid this warning.\n",
      "  \"avoid this warning.\", FutureWarning)\n",
      "C:\\anaconda\\lib\\site-packages\\sklearn\\svm\\base.py:196: FutureWarning: The default value of gamma will change from 'auto' to 'scale' in version 0.22 to account better for unscaled features. Set gamma explicitly to 'auto' or 'scale' to avoid this warning.\n",
      "  \"avoid this warning.\", FutureWarning)\n"
     ]
    },
    {
     "name": "stdout",
     "output_type": "stream",
     "text": [
      "C = 1\tThe root of weighted squared error = 3.895899224835595\n"
     ]
    },
    {
     "name": "stderr",
     "output_type": "stream",
     "text": [
      "C:\\anaconda\\lib\\site-packages\\sklearn\\svm\\base.py:196: FutureWarning: The default value of gamma will change from 'auto' to 'scale' in version 0.22 to account better for unscaled features. Set gamma explicitly to 'auto' or 'scale' to avoid this warning.\n",
      "  \"avoid this warning.\", FutureWarning)\n",
      "C:\\anaconda\\lib\\site-packages\\sklearn\\svm\\base.py:196: FutureWarning: The default value of gamma will change from 'auto' to 'scale' in version 0.22 to account better for unscaled features. Set gamma explicitly to 'auto' or 'scale' to avoid this warning.\n",
      "  \"avoid this warning.\", FutureWarning)\n"
     ]
    },
    {
     "name": "stdout",
     "output_type": "stream",
     "text": [
      "C = 10\tThe root of weighted squared error = 3.688258522554423\n"
     ]
    },
    {
     "name": "stderr",
     "output_type": "stream",
     "text": [
      "C:\\anaconda\\lib\\site-packages\\sklearn\\svm\\base.py:196: FutureWarning: The default value of gamma will change from 'auto' to 'scale' in version 0.22 to account better for unscaled features. Set gamma explicitly to 'auto' or 'scale' to avoid this warning.\n",
      "  \"avoid this warning.\", FutureWarning)\n",
      "C:\\anaconda\\lib\\site-packages\\sklearn\\svm\\base.py:196: FutureWarning: The default value of gamma will change from 'auto' to 'scale' in version 0.22 to account better for unscaled features. Set gamma explicitly to 'auto' or 'scale' to avoid this warning.\n",
      "  \"avoid this warning.\", FutureWarning)\n"
     ]
    },
    {
     "name": "stdout",
     "output_type": "stream",
     "text": [
      "C = 100\tThe root of weighted squared error = 3.231721544345838\n"
     ]
    },
    {
     "name": "stderr",
     "output_type": "stream",
     "text": [
      "C:\\anaconda\\lib\\site-packages\\sklearn\\svm\\base.py:196: FutureWarning: The default value of gamma will change from 'auto' to 'scale' in version 0.22 to account better for unscaled features. Set gamma explicitly to 'auto' or 'scale' to avoid this warning.\n",
      "  \"avoid this warning.\", FutureWarning)\n",
      "C:\\anaconda\\lib\\site-packages\\sklearn\\svm\\base.py:196: FutureWarning: The default value of gamma will change from 'auto' to 'scale' in version 0.22 to account better for unscaled features. Set gamma explicitly to 'auto' or 'scale' to avoid this warning.\n",
      "  \"avoid this warning.\", FutureWarning)\n"
     ]
    },
    {
     "name": "stdout",
     "output_type": "stream",
     "text": [
      "C = 1000\tThe root of weighted squared error = 3.016074874643647\n"
     ]
    },
    {
     "name": "stderr",
     "output_type": "stream",
     "text": [
      "C:\\anaconda\\lib\\site-packages\\sklearn\\svm\\base.py:196: FutureWarning: The default value of gamma will change from 'auto' to 'scale' in version 0.22 to account better for unscaled features. Set gamma explicitly to 'auto' or 'scale' to avoid this warning.\n",
      "  \"avoid this warning.\", FutureWarning)\n",
      "C:\\anaconda\\lib\\site-packages\\sklearn\\svm\\base.py:196: FutureWarning: The default value of gamma will change from 'auto' to 'scale' in version 0.22 to account better for unscaled features. Set gamma explicitly to 'auto' or 'scale' to avoid this warning.\n",
      "  \"avoid this warning.\", FutureWarning)\n"
     ]
    },
    {
     "name": "stdout",
     "output_type": "stream",
     "text": [
      "C = 10000\tThe root of weighted squared error = 2.9661445122975643\n"
     ]
    },
    {
     "name": "stderr",
     "output_type": "stream",
     "text": [
      "C:\\anaconda\\lib\\site-packages\\sklearn\\svm\\base.py:196: FutureWarning: The default value of gamma will change from 'auto' to 'scale' in version 0.22 to account better for unscaled features. Set gamma explicitly to 'auto' or 'scale' to avoid this warning.\n",
      "  \"avoid this warning.\", FutureWarning)\n",
      "C:\\anaconda\\lib\\site-packages\\sklearn\\svm\\base.py:196: FutureWarning: The default value of gamma will change from 'auto' to 'scale' in version 0.22 to account better for unscaled features. Set gamma explicitly to 'auto' or 'scale' to avoid this warning.\n",
      "  \"avoid this warning.\", FutureWarning)\n"
     ]
    },
    {
     "name": "stdout",
     "output_type": "stream",
     "text": [
      "C = 100000.0\tThe root of weighted squared error = 3.0245438794178736\n"
     ]
    }
   ],
   "source": [
    "# GridSearchCV cannot perform the weighted approach I want here.\n",
    "# I will write my own code to do hyperparameter tuning with 2-fold CV.\n",
    "from sklearn.model_selection import KFold\n",
    "from sklearn.svm import SVR\n",
    "kf = KFold(n_splits=2)\n",
    "for c in [1, 10, 100, 1000, 10000, 1e5]:\n",
    "    error = 0\n",
    "    for train_index, test_index in kf.split(Xtrain, ytrain):\n",
    "        CV_Xtrain, CV_ytrain = Xtrain[train_index], ytrain[train_index]\n",
    "        CV_Xtest, CV_ytest = Xtrain[test_index], ytrain[test_index]\n",
    "        CV_train_weights = calc_weights(CV_ytrain)\n",
    "        CV_test_weights = calc_weights(CV_ytest)\n",
    "        clf = SVR(C=c)\n",
    "        clf.fit(CV_Xtrain, CV_ytrain, sample_weight=CV_train_weights)\n",
    "        CV_ypred = clf.predict(CV_Xtest)\n",
    "        error += np.sqrt(mean_squared_error(CV_ytest, CV_ypred, sample_weight=CV_test_weights))\n",
    "    print(\"C = {}\\tThe root of weighted squared error = {}\".format(c,error/2))"
   ]
  },
  {
   "cell_type": "code",
   "execution_count": 25,
   "metadata": {},
   "outputs": [
    {
     "name": "stderr",
     "output_type": "stream",
     "text": [
      "C:\\anaconda\\lib\\site-packages\\sklearn\\svm\\base.py:196: FutureWarning: The default value of gamma will change from 'auto' to 'scale' in version 0.22 to account better for unscaled features. Set gamma explicitly to 'auto' or 'scale' to avoid this warning.\n",
      "  \"avoid this warning.\", FutureWarning)\n"
     ]
    },
    {
     "name": "stdout",
     "output_type": "stream",
     "text": [
      "The root of weighted squared error of this model is 2.861488199684632\n"
     ]
    }
   ],
   "source": [
    "svr = SVR(C=10000)\n",
    "svr.fit(Xtrain, ytrain, sample_weight=ytrain_weights)\n",
    "ypred = svr.predict(Xtest)\n",
    "print('The root of weighted squared error of this model is', \n",
    "      np.sqrt(mean_squared_error(ytest, ypred, sample_weight=ytest_weights)))"
   ]
  },
  {
   "cell_type": "code",
   "execution_count": 29,
   "metadata": {},
   "outputs": [
    {
     "name": "stderr",
     "output_type": "stream",
     "text": [
      "C:\\anaconda\\lib\\site-packages\\matplotlib\\axes\\_axes.py:6521: MatplotlibDeprecationWarning: \n",
      "The 'normed' kwarg was deprecated in Matplotlib 2.1 and will be removed in 3.1. Use 'density' instead.\n",
      "  alternative=\"'density'\", removal=\"3.1\")\n",
      "C:\\anaconda\\lib\\site-packages\\matplotlib\\axes\\_axes.py:6521: MatplotlibDeprecationWarning: \n",
      "The 'normed' kwarg was deprecated in Matplotlib 2.1 and will be removed in 3.1. Use 'density' instead.\n",
      "  alternative=\"'density'\", removal=\"3.1\")\n"
     ]
    },
    {
     "data": {
      "image/png": "[encoded data removed]",
      "text/plain": [
       "<Figure size 432x288 with 1 Axes>"
      ]
     },
     "metadata": {
      "needs_background": "light"
     },
     "output_type": "display_data"
    }
   ],
   "source": [
    "# Check distribution of prediction again\n",
    "_ = plt.hist(ytest, bins=30, alpha=0.5, normed=True, label='Actual Improvement')\n",
    "_ = plt.hist(ypred, bins=30, alpha=0.5, normed=True, label='Predicted Improvement')\n",
    "_ = plt.xlabel('Improvement', fontsize=16)\n",
    "_ = plt.ylabel('Normalized Distribution Function', fontsize=16)\n",
    "_ = plt.legend(fontsize=12, bbox_to_anchor=(0.6,1))"
   ]
  },
  {
   "cell_type": "code",
   "execution_count": 30,
   "metadata": {},
   "outputs": [
    {
     "data": {
      "image/png": "[encoded data removed]",
      "text/plain": [
       "<Figure size 432x432 with 1 Axes>"
      ]
     },
     "metadata": {
      "needs_background": "light"
     },
     "output_type": "display_data"
    }
   ],
   "source": [
    "plot_predict_true(ytest, ypred)"
   ]
  },
  {
   "cell_type": "markdown",
   "metadata": {},
   "source": [
    "RMSE is slightly better than linear models."
   ]
  },
  {
   "cell_type": "markdown",
   "metadata": {},
   "source": [
    "2.4. Random Forest"
   ]
  },
  {
   "cell_type": "code",
   "execution_count": null,
   "metadata": {},
   "outputs": [
    {
     "name": "stdout",
     "output_type": "stream",
     "text": [
      "n_estimator = 101 min_samples_split = 10\tThe root of weighted squared error = 3.222912004312924\n",
      "n_estimator = 101 min_samples_split = 100\tThe root of weighted squared error = 3.0472045707351505\n",
      "n_estimator = 101 min_samples_split = 200\tThe root of weighted squared error = 3.039310062477536\n",
      "n_estimator = 101 min_samples_split = 300\tThe root of weighted squared error = 3.0556214848238454\n",
      "n_estimator = 201 min_samples_split = 10\tThe root of weighted squared error = 3.210414799173967\n",
      "n_estimator = 201 min_samples_split = 100\tThe root of weighted squared error = 3.043972277030526\n",
      "n_estimator = 201 min_samples_split = 200\tThe root of weighted squared error = 3.036948533468366\n",
      "n_estimator = 201 min_samples_split = 300\tThe root of weighted squared error = 3.051769268729897\n"
     ]
    }
   ],
   "source": [
    "# Tune n_estimators and min_samples_split\n",
    "from sklearn.ensemble import RandomForestRegressor\n",
    "for n in [101, 201, 401, 601, 801, 1001]:\n",
    "    for m in [10, 100, 200, 300]:\n",
    "        error = 0\n",
    "        for train_index, test_index in kf.split(Xtrain, ytrain):\n",
    "            CV_Xtrain, CV_ytrain = Xtrain[train_index], ytrain[train_index]\n",
    "            CV_Xtest, CV_ytest = Xtrain[test_index], ytrain[test_index]\n",
    "            CV_train_weights = calc_weights(CV_ytrain)\n",
    "            CV_test_weights = calc_weights(CV_ytest)\n",
    "            clf = RandomForestRegressor(\n",
    "                random_state=42, n_jobs=-1, n_estimators=n, min_samples_split=m)\n",
    "            clf.fit(CV_Xtrain, CV_ytrain, sample_weight=CV_train_weights)\n",
    "            CV_ypred = clf.predict(CV_Xtest)\n",
    "            error += np.sqrt(mean_squared_error(CV_ytest, CV_ypred, sample_weight=CV_test_weights))\n",
    "        print(\"n_estimator = {} min_samples_split = {}\\tThe root of weighted squared error = {}\".format(n,m,error/2))"
   ]
  },
  {
   "cell_type": "code",
   "execution_count": null,
   "metadata": {},
   "outputs": [],
   "source": [
    "# Run the model with best parameters\n",
    "rf = RandomForestRegressor(random_state=42, n_estimators=401, min_samples_split=200)\n",
    "rf.fit(Xtrain, ytrain, sample_weight=ytrain_weights)\n",
    "ypred = rf.predict(Xtest)\n",
    "print('The root of weighted squared error of this model is', \n",
    "      np.sqrt(mean_squared_error(ytest, ypred, sample_weight=ytest_weights)))"
   ]
  },
  {
   "cell_type": "markdown",
   "metadata": {},
   "source": [
    "2.5 Gradient Boost"
   ]
  },
  {
   "cell_type": "code",
   "execution_count": null,
   "metadata": {},
   "outputs": [],
   "source": [
    "# Tune max_depth and max_features first\n",
    "from sklearn.ensemble import GradientBoostingRegressor\n",
    "for d in [2, 3, 5, 10]:\n",
    "    for f in ['sqrt', None]:\n",
    "        error = 0\n",
    "        for train_index, test_index in kf.split(Xtrain, ytrain):\n",
    "            CV_Xtrain, CV_ytrain = Xtrain[train_index], ytrain[train_index]\n",
    "            CV_Xtest, CV_ytest = Xtrain[test_index], ytrain[test_index]\n",
    "            CV_train_weights = calc_weights(CV_ytrain)\n",
    "            CV_test_weights = calc_weights(CV_ytest)\n",
    "            clf = GradientBoostingRegressor(\n",
    "                random_state=42, min_samples_split=200, max_depth=d, max_features=f)\n",
    "            clf.fit(CV_Xtrain, CV_ytrain, sample_weight=CV_train_weights)\n",
    "            CV_ypred = clf.predict(CV_Xtest)\n",
    "            error += np.sqrt(mean_squared_error(CV_ytest, CV_ypred, sample_weight=CV_test_weights))\n",
    "        print(\"max_depth = {} max_features = {}\\tThe root of weighted squared error = {}\".format(d,f,error/2))"
   ]
  },
  {
   "cell_type": "code",
   "execution_count": null,
   "metadata": {},
   "outputs": [],
   "source": [
    "\n",
    "# Tune learning rate and n_estimators\n",
    "for n in [51, 101, 201, 401]:\n",
    "    for l in [0.01, 0.05, 0.1, 0.15]:\n",
    "        error = 0\n",
    "        for train_index, test_index in kf.split(Xtrain, ytrain):\n",
    "            CV_Xtrain, CV_ytrain = Xtrain[train_index], ytrain[train_index]\n",
    "            CV_Xtest, CV_ytest = Xtrain[test_index], ytrain[test_index]\n",
    "            CV_train_weights = calc_weights(CV_ytrain)\n",
    "            CV_test_weights = calc_weights(CV_ytest)\n",
    "            clf = GradientBoostingRegressor(\n",
    "                random_state=42, min_samples_split=200, max_depth=2,\n",
    "                max_features='sqrt', learning_rate=l, n_estimators=n)\n",
    "            clf.fit(CV_Xtrain, CV_ytrain, sample_weight=CV_train_weights)\n",
    "            CV_ypred = clf.predict(CV_Xtest)\n",
    "            error += np.sqrt(mean_squared_error(CV_ytest, CV_ypred, sample_weight=CV_test_weights))\n",
    "        print(\"n_estimators = {} learning_rate = {}\\tThe root of weighted squared error = {}\".format(n,l,error/2))"
   ]
  },
  {
   "cell_type": "code",
   "execution_count": null,
   "metadata": {},
   "outputs": [],
   "source": [
    "gb = GradientBoostingRegressor(\n",
    "        random_state=42, max_depth=2, max_features='sqrt', min_samples_split=200,\n",
    "        learning_rate=0.05, n_estimators=201\n",
    "     )\n",
    "gb.fit(Xtrain, ytrain, sample_weight=ytrain_weights)\n",
    "ypred = gb.predict(Xtest)\n",
    "print('The root of weighted squared error of this model is', \n",
    "      np.sqrt(mean_squared_error(ytest, ypred, sample_weight=ytest_weights)))"
   ]
  },
  {
   "cell_type": "markdown",
   "metadata": {},
   "source": [
    "It appears that SVM was the best model based on the weighted squared error metric.\n",
    "Regression models are good in answering the \"how much will a player improve\" question, but sometimes it maybe more useful to answer \"will a player improve\" or \"the probability a player will improve\" question, as the answers to these questions are often more straightforward. To answer these, I would use classficiation models."
   ]
  },
  {
   "cell_type": "markdown",
   "metadata": {},
   "source": [
    "\n",
    "3. Using classification models"
   ]
  },
  {
   "cell_type": "code",
   "execution_count": null,
   "metadata": {},
   "outputs": [],
   "source": [
    "\n",
    "# Transform the target values into classes\n",
    "ytrain_class = (ytrain >= 0).astype(int)\n",
    "ytest_class = (ytest >= 0).astype(int)"
   ]
  },
  {
   "cell_type": "markdown",
   "metadata": {},
   "source": [
    "3.1 Logistic Regression"
   ]
  },
  {
   "cell_type": "code",
   "execution_count": null,
   "metadata": {},
   "outputs": [],
   "source": [
    "\n",
    "from sklearn.linear_model import LogisticRegression\n",
    "clf = LogisticRegression(random_state=42)\n",
    "params = {\n",
    "    'C': [0.1, 1, 10, 100],\n",
    "    'penalty': ['l1', 'l2']\n",
    "}\n",
    "# Write a function a run gridsearchcv\n",
    "def grid_search_cv_class(clf, params, Xtrain, ytrain):\n",
    "    # Use log loss as evaluation metric because \n",
    "    # probabilities are going to be more important than the class prediction.\n",
    "    model = GridSearchCV(clf, params, scoring='neg_log_loss', n_jobs=-1)\n",
    "    model.fit(Xtrain, ytrain)\n",
    "    print('Best parameters were', model.best_params_)\n",
    "grid_search_cv_class(clf, params, Xtrain, ytrain_class)"
   ]
  },
  {
   "cell_type": "code",
   "execution_count": null,
   "metadata": {},
   "outputs": [],
   "source": [
    "# Check coefficients\n",
    "logreg = LogisticRegression(C=10, penalty='l2', random_state=42)\n",
    "logreg.fit(Xtrain, ytrain_class)\n",
    "coefs = pd.Series(logreg.coef_.reshape(-1), index=data.columns)\n",
    "print(coefs)"
   ]
  },
  {
   "cell_type": "code",
   "execution_count": null,
   "metadata": {},
   "outputs": [],
   "source": [
    "# Model evaluation using the test set\n",
    "from sklearn.metrics import classification_report, confusion_matrix, accuracy_score, log_loss\n",
    "def model_evaluation(model, Xtest, ytest):\n",
    "    ypred = model.predict(Xtest)\n",
    "    ypred_prob = model.predict_proba(Xtest)\n",
    "    print('Accuracy of test set was', accuracy_score(ytest, ypred))\n",
    "    print('Log loss of test set was', log_loss(ytest, ypred_prob), \"\\n\")\n",
    "    tn, fp, fn, tp = confusion_matrix(ytest, ypred).ravel()\n",
    "    print('True Negative = {}\\tFalse Positive = {}\\nFalse Negative = {}\\tTrue Positive={}'\n",
    "          .format(tn,fp,fn,tp))\n",
    "    print(\"\\n\")\n",
    "    print(classification_report(ytest, ypred))\n",
    "model_evaluation(logreg, Xtest, ytest_class)"
   ]
  },
  {
   "cell_type": "code",
   "execution_count": null,
   "metadata": {},
   "outputs": [],
   "source": [
    "# Plot the predicted probability and true values\n",
    "def plot_prob_value(model, Xtest, ytest):\n",
    "    ypred = model.predict_proba(Xtest)[:,1]\n",
    "    plt.figure(figsize=(6,6))\n",
    "    _ = plt.scatter(ytest, ypred, s=10)\n",
    "    _ = plt.xlabel('Actual Player Improvement', fontsize=16)\n",
    "    _ = plt.ylabel('Predicted Probability', fontsize=16)\n",
    "plot_prob_value(logreg, Xtest, ytest)"
   ]
  },
  {
   "cell_type": "markdown",
   "metadata": {},
   "source": [
    "3.2 SVM"
   ]
  },
  {
   "cell_type": "code",
   "execution_count": null,
   "metadata": {},
   "outputs": [],
   "source": [
    "from sklearn.svm import SVC\n",
    "clf = SVC(random_state=42, probability=True)\n",
    "params = {\n",
    "    'C': [10, 100, 1000, 10000],\n",
    "    'gamma': [1e-4, 0.001, 0.01, 0.1, 1, 10]\n",
    "}\n",
    "grid_search_cv_class(clf, params, Xtrain, ytrain_class)"
   ]
  },
  {
   "cell_type": "code",
   "execution_count": null,
   "metadata": {},
   "outputs": [],
   "source": [
    "svc = SVC(random_state=42, probability=True, C=10000, gamma=0.001)\n",
    "svc.fit(Xtrain, ytrain_class)\n",
    "model_evaluation(svc, Xtest, ytest_class)"
   ]
  },
  {
   "cell_type": "code",
   "execution_count": null,
   "metadata": {},
   "outputs": [],
   "source": [
    "plot_prob_value(svc, Xtest, ytest)"
   ]
  },
  {
   "cell_type": "markdown",
   "metadata": {},
   "source": [
    "\n",
    "Very similar performances between logistic regression and SVM."
   ]
  },
  {
   "cell_type": "markdown",
   "metadata": {},
   "source": [
    "3.3 Random Forest"
   ]
  },
  {
   "cell_type": "code",
   "execution_count": null,
   "metadata": {},
   "outputs": [],
   "source": [
    "from sklearn.ensemble import RandomForestClassifier\n",
    "clf = RandomForestClassifier(random_state=42)\n",
    "params = {\n",
    "    'n_estimators': [101, 201, 401, 601, 801, 1001],\n",
    "    'max_depth': [5, 10, 20],\n",
    "    'min_samples_split': [2, 10, 20],\n",
    "}\n",
    "grid_search_cv_class(clf, params, Xtrain, ytrain_class)"
   ]
  },
  {
   "cell_type": "code",
   "execution_count": null,
   "metadata": {},
   "outputs": [],
   "source": [
    "rf = RandomForestClassifier(\n",
    "                   n_estimators=601, max_depth=10, min_samples_split=2,\n",
    "                   random_state=42)\n",
    "rf.fit(Xtrain, ytrain_class)\n",
    "model_evaluation(rf, Xtest, ytest_class)"
   ]
  },
  {
   "cell_type": "code",
   "execution_count": null,
   "metadata": {},
   "outputs": [],
   "source": [
    "# Plot feature importances.\n",
    "imp = pd.Series(rf.feature_importances_, index=data.columns)\n",
    "imp = imp.sort_values(ascending=False)\n",
    "plt.figure(figsize=(10,5))\n",
    "_ = plt.bar(range(len(imp)), imp)\n",
    "_ = plt.xticks(range(len(imp)), imp.index, rotation=90)\n",
    "_ = plt.xlabel('Features', fontsize=16)\n",
    "_ = plt.ylabel(\"Feature Importance\", fontsize=16)\n",
    "_ = plt.xticks(fontsize=12)\n",
    "_ = plt.yticks(fontsize=12)"
   ]
  },
  {
   "cell_type": "markdown",
   "metadata": {},
   "source": [
    "\n",
    "3.4 Gradient Boost"
   ]
  },
  {
   "cell_type": "code",
   "execution_count": null,
   "metadata": {},
   "outputs": [],
   "source": [
    "from sklearn.ensemble import GradientBoostingClassifier\n",
    "# Use some tuned parameters from random forest, only tune learning rate and n_estimators\n",
    "clf = GradientBoostingClassifier(\n",
    "                    min_samples_split=2, max_depth=10,\n",
    "                    max_features='sqrt', random_state=42)\n",
    "params = {\n",
    "    'learning_rate': [0.001, 0.005, 0.01, 0.05, 0.1],\n",
    "    'n_estimators': [25, 51, 101, 201, 401, 601, 1001],\n",
    "}\n",
    "grid_search_cv_class(clf, params, Xtrain, ytrain_class)"
   ]
  },
  {
   "cell_type": "code",
   "execution_count": null,
   "metadata": {},
   "outputs": [],
   "source": [
    "gb = GradientBoostingClassifier(\n",
    "                    min_samples_split=2, max_depth=10,\n",
    "                    max_features='sqrt', random_state=42,\n",
    "                    learning_rate=0.01, n_estimators=201)\n",
    "gb.fit(Xtrain, ytrain_class)\n",
    "model_evaluation(gb, Xtest, ytest_class)"
   ]
  },
  {
   "cell_type": "markdown",
   "metadata": {},
   "source": [
    "The random forest model had the best performances out of all, but not by much"
   ]
  },
  {
   "cell_type": "markdown",
   "metadata": {},
   "source": [
    "3.5 Voting Model"
   ]
  },
  {
   "cell_type": "code",
   "execution_count": null,
   "metadata": {},
   "outputs": [],
   "source": [
    "from sklearn.ensemble import VotingClassifier\n",
    "# Make a weights matrix\n",
    "weights = [[int(x) for x in list(\"{0:0b}\".format(i).zfill(4))] for i in range(1, 2**4)]\n",
    "print('Weights matrix is', weights)\n",
    "# Use CV to figure which models to use in the ensumble model\n",
    "clf = VotingClassifier(\n",
    "    estimators=[('logreg', logreg), ('svc', svc), ('rf', rf), ('gb', gb)],\n",
    "    voting='soft')\n",
    "params = {'weights': weights}\n",
    "grid_search_cv_class(clf, params, Xtrain, ytrain_class)"
   ]
  },
  {
   "cell_type": "code",
   "execution_count": null,
   "metadata": {},
   "outputs": [],
   "source": [
    "voting = VotingClassifier(\n",
    "    estimators=[('logreg', logreg), ('svc', svc), ('gb', gb)],\n",
    "    voting='soft', weights = [1,1,1])\n",
    "voting.fit(Xtrain, ytrain_class)\n",
    "model_evaluation(voting, Xtest, ytest_class)"
   ]
  },
  {
   "cell_type": "code",
   "execution_count": null,
   "metadata": {},
   "outputs": [],
   "source": [
    "plot_prob_value(voting, Xtest, ytest)"
   ]
  },
  {
   "cell_type": "markdown",
   "metadata": {},
   "source": [
    "3.6 ROC curve"
   ]
  },
  {
   "cell_type": "code",
   "execution_count": null,
   "metadata": {},
   "outputs": [],
   "source": [
    "# Plot the precision-recall curve of different models on the test set.\n",
    "from sklearn.metrics import roc_curve\n",
    "models = [logreg, svc, rf, gb, voting]\n",
    "labels = ['Logistic Regression', 'Support Vector Machine',\n",
    "          'Random Forest', 'Grandient Boosting', 'Voting']\n",
    "colors = ['red', 'yellow', 'green', 'blue', 'purple']\n",
    "plt.figure(figsize=(8,8))\n",
    "for index, model in enumerate(models):\n",
    "    ypred_prob = model.predict_proba(Xtest)[:,1]\n",
    "    fpr, tpr, _ = roc_curve(ytest_class, ypred_prob)\n",
    "    _ = plt.step(fpr, tpr, color=colors[index], alpha=0.5, where='post', label=labels[index])\n",
    "random = np.random.rand(len(ytest))\n",
    "fpr, tpr , _ = roc_curve(ytest_class, random)\n",
    "_ = plt.step(fpr, tpr, color='k', alpha=0.5, where='post', label='Random')\n",
    "_ = plt.xlabel('False Positive Rate')\n",
    "_ = plt.ylabel('True Positive Rate')\n",
    "_ = plt.legend(fontsize=12)"
   ]
  },
  {
   "cell_type": "markdown",
   "metadata": {},
   "source": [
    "\n",
    "In this problem, we want the false positive rate to be lower. In other words, it is OK to have false negatives (miss some improved players), since a team can only have a limited number of players. But it is really bad to have false positives, because acquiring that player probably means loss of value for the team."
   ]
  },
  {
   "cell_type": "code",
   "execution_count": null,
   "metadata": {},
   "outputs": [],
   "source": [
    "# Re-do the roc curve, but zoom in for false positive rate < 0.2\n",
    "models = [logreg, svc, rf, gb, voting]\n",
    "labels = ['Logistic Regression', 'Support Vector Machine',\n",
    "          'Random Forest', 'Grandient Boosting', 'Voting']\n",
    "colors = ['red', 'yellow', 'green', 'blue', 'purple']\n",
    "plt.figure(figsize=(8,8))\n",
    "for index, model in enumerate(models):\n",
    "    ypred_prob = model.predict_proba(Xtest)[:,1]\n",
    "    fpr, tpr, _ = roc_curve(ytest_class, ypred_prob)\n",
    "    _ = plt.step(fpr, tpr, color=colors[index], alpha=0.5, where='post', label=labels[index])\n",
    "random = np.random.rand(len(ytest))\n",
    "fpr, tpr , _ = roc_curve(ytest_class, random)\n",
    "_ = plt.step(fpr, tpr, color='k', alpha=0.5, where='post', label='Random')\n",
    "_ = plt.xlim([0, 0.2])\n",
    "_ = plt.xlabel('False Positive Rate')\n",
    "_ = plt.ylabel('True Positive Rate')\n",
    "_ = plt.legend(fontsize=12)"
   ]
  },
  {
   "cell_type": "markdown",
   "metadata": {},
   "source": [
    "\n",
    "It seems like the voting model was on or near the top in most cases. But the differences between models were very very small."
   ]
  },
  {
   "cell_type": "code",
   "execution_count": null,
   "metadata": {},
   "outputs": [],
   "source": []
  }
 ],
 "metadata": {
  "kernelspec": {
   "display_name": "Python 3",
   "language": "python",
   "name": "python3"
  },
  "language_info": {
   "codemirror_mode": {
    "name": "ipython",
    "version": 3
   },
   "file_extension": ".py",
   "mimetype": "text/x-python",
   "name": "python",
   "nbconvert_exporter": "python",
   "pygments_lexer": "ipython3",
   "version": "3.7.3"
  }
 },
 "nbformat": 4,
 "nbformat_minor": 2
}
